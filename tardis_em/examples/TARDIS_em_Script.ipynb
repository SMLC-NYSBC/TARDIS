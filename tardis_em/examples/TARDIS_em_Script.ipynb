{
 "cells": [
  {
   "metadata": {},
   "cell_type": "markdown",
   "source": "# Download model weights for CNN semantic segmentation module.",
   "id": "76950ee550eabc7d"
  },
  {
   "cell_type": "code",
   "id": "initial_id",
   "metadata": {
    "collapsed": true,
    "ExecuteTime": {
     "end_time": "2025-09-24T18:52:28.282583Z",
     "start_time": "2025-09-24T18:52:27.182498Z"
    }
   },
   "source": [
    "import torch\n",
    "from tardis_em.utils.aws import get_weights_aws\n",
    "\n",
    "# Fnet model for 3D microtubule segmentation\n",
    "cnn_weights = get_weights_aws(\n",
    "    network=\"fnet_attn\", subtype=\"32\", model=\"microtubules_3d\"\n",
    ")\n",
    "\n",
    "# # Unet model for 3D microtubule segmentation\n",
    "# cnn_weights = get_weights_aws(network='unet', subtype=\"32\", model=\"microtubules_3d\")\n",
    "#\n",
    "# # Fnet model for 3D membrane segmentation\n",
    "# cnn_weights = get_weights_aws(network='fnet_attn', subtype=\"32\", model=\"membrane_3d\")\n",
    "#\n",
    "# # Unet model for 3D membrane segmentation\n",
    "# cnn_weights = get_weights_aws(network='unet', subtype=\"32\", model=\"membrane_3d\")\n",
    "#\n",
    "# # Fnet model for 3D membrane segmentation\n",
    "# cnn_weights = get_weights_aws(network='fnet_attn', subtype=\"32\", model=\"membrane_2d\")\n",
    "#\n",
    "# # Unet model for 3D membrane segmentation\n",
    "# cnn_weights = get_weights_aws(network='unet', subtype=\"32\", model=\"membrane_2d\")\n",
    "\n",
    "cnn_weights = torch.load(cnn_weights, map_location=\"cpu\")"
   ],
   "outputs": [],
   "execution_count": null
  },
  {
   "metadata": {},
   "cell_type": "markdown",
   "source": "# Download model weights for DIST instance segmentation module.",
   "id": "6974704f4f330e0c"
  },
  {
   "metadata": {
    "ExecuteTime": {
     "end_time": "2024-05-08T09:53:32.732967Z",
     "start_time": "2024-05-08T09:53:25.943913Z"
    }
   },
   "cell_type": "code",
   "source": [
    "from tardis_em.utils.aws import get_weights_aws\n",
    "import torch\n",
    "\n",
    "# # 3D instance segmentation module for membranes in 3D\n",
    "# dist_weights = get_weights_aws(network='dist', subtype=\"triang\", model=\"3d\")\n",
    "\n",
    "# 2D instance segmentation module for membranes or microtubules\n",
    "dist_weights = get_weights_aws(network=\"dist\", subtype=\"triang\", model=\"2d\")\n",
    "\n",
    "dist_weights = torch.load(dist_weights, map_location=\"cpu\")"
   ],
   "id": "244425af5299955a",
   "execution_count": 2,
   "outputs": []
  },
  {
   "metadata": {},
   "cell_type": "markdown",
   "source": "# Build Prediction class",
   "id": "ad70ff71dd6e3cc3"
  },
  {
   "metadata": {
    "ExecuteTime": {
     "end_time": "2024-05-08T09:53:36.646091Z",
     "start_time": "2024-05-08T09:53:32.734048Z"
    }
   },
   "cell_type": "code",
   "source": [
    "from tardis_em.utils.predictor import GeneralPredictor\n",
    "import numpy as np\n",
    "\n",
    "x = np.random.rand(128, 128, 128)\n",
    "\n",
    "tardis = GeneralPredictor(\n",
    "    predict=\"Microtubule\",  # Must be one of [\"Filament\", \"Membrane2D\", \"Membrane\", \"Microtubule\"]\n",
    "    dir_s=[x],  # Must be one of [str to directory, np.ndarray]\n",
    "    binary_mask=False,  # If True, GeneralPredictor will assume that input image is Semantic Mask and will run only instance segmentation\n",
    "    output_format=\"return_return\",  # Must be \"formatS_formatI\" where formatS is semantic output format file and formatI is instance output format one of [\".tif\", \".tiff\", \".mrc\", \".rec\", \".am\", \".map\", \".npy\"]\n",
    "    patch_size=128,  # Size of a patch ML model predict at a time\n",
    "    convolution_nn=\"fnet_attn\",  # Name of CNN model. Must be one of [unet, fnet_attn]\n",
    "    cnn_threshold=0.25,  # Threshold for CNN model\n",
    "    dist_threshold=0.5,  # Threshold for DIST instance model\n",
    "    points_in_patch=1000,  # Number of points DIST model predict at a time [GPU constrain 1000 points needs 12 Gb GPU memory]\n",
    "    predict_with_rotation=False,  # Optional rotation of image patch during CNN prediction to increase accuracy\n",
    "    instances=True,  # If True, Tardis will predict both semantic and instance predictions\n",
    "    device_s=\"cpu\",  # 0-9 indicate GPU id, but also \"cpu\" or \"mps\" can be used\n",
    "    debug=False,  # If True, enable debuting mode which save all intermediate files\n",
    "    checkpoint=[cnn_weights, dist_weights],  # Indicate pre-trained weights\n",
    "    correct_px=25,  # For numpy correct pixel size must be indicated\n",
    "    amira_prefix=None,  # For microtubules prediction, Tardis can read Amira Spatial Graph to compare both predictions and select overlaying microtubules to increase precision\n",
    "    filter_by_length=None,  # Optional length filter for the predicted filaments\n",
    "    connect_splines=None,  # Optional filter for connecting filaments which are facing the same direction and are in the distance equal or smaller than [A]\n",
    "    connect_cylinder=None,  # Optional filter for connecting filaments which are facing the same direction based on cylinder radius equal or smaller than [A]\n",
    "    amira_compare_distance=None,  # Optional length filter for comparing Amira prediction with TARDIS\n",
    "    amira_inter_probability=None,  # Optional filter for comparing Amira prediction with TARDIS. Defining likelihood of two microtubules being the same one [0-1]\n",
    "    tardis_logo=False,  # If True, enable console display of prediction progress. If True, Tardis will run silently\n",
    ")"
   ],
   "id": "c4f147111cbf0441",
   "execution_count": 3,
   "outputs": []
  },
  {
   "metadata": {},
   "cell_type": "markdown",
   "source": "# Run prediction",
   "id": "b09ad4a7d99a4ffd"
  },
  {
   "metadata": {},
   "cell_type": "code",
   "source": "semantic, instance, instance_filter = tardis()",
   "id": "3a89c968e08ff0b0",
   "execution_count": 4,
   "outputs": []
  },
  {
   "metadata": {
    "ExecuteTime": {
     "end_time": "2024-05-08T09:55:53.114966Z",
     "start_time": "2024-05-08T09:55:52.985569Z"
    }
   },
   "cell_type": "code",
   "source": [
    "import matplotlib.pyplot as plt\n",
    "\n",
    "plt.imshow(semantic[0].sum(0))"
   ],
   "id": "b9404ab59973d47d",
   "execution_count": 5,
   "outputs": []
  },
  {
   "metadata": {},
   "cell_type": "markdown",
   "source": "# Create dummy dataset",
   "id": "9dfd9caa7b9ccb2c"
  },
  {
   "metadata": {
    "ExecuteTime": {
     "end_time": "2024-05-08T09:55:53.129663Z",
     "start_time": "2024-05-08T09:55:53.115988Z"
    }
   },
   "cell_type": "code",
   "source": [
    "from tardis_em.utils.export_data import to_mrc\n",
    "\n",
    "to_mrc(x.astype(np.float32), 25.0, \"./test.mrc\")"
   ],
   "id": "76f8fe0edff03ccc",
   "execution_count": 6,
   "outputs": []
  },
  {
   "metadata": {},
   "cell_type": "markdown",
   "source": "# Run TARDIS on file in directory",
   "id": "7dcf1628e870ddc1"
  },
  {
   "metadata": {
    "ExecuteTime": {
     "end_time": "2024-05-08T09:55:53.994092Z",
     "start_time": "2024-05-08T09:55:53.130889Z"
    }
   },
   "cell_type": "code",
   "source": [
    "from tardis_em.utils.predictor import GeneralPredictor\n",
    "import numpy as np\n",
    "\n",
    "x = np.random.rand(128, 128, 128)\n",
    "\n",
    "tardis = GeneralPredictor(\n",
    "    predict=\"Microtubule\",  # Must be one of [\"Filament\", \"Membrane2D\", \"Membrane\", \"Microtubule\"]\n",
    "    dir_s=\".\",  # Must be one of [str to directory, np.ndarray]\n",
    "    binary_mask=False,  # If True, GeneralPredictor will assume that input image is Semantic Mask and will run only instance segmentation\n",
    "    output_format=\"return_return\",  # Must be \"formatS_formatI\" where formatS is semantic output format file and formatI is instance output format one of [\".tif\", \".tiff\", \".mrc\", \".rec\", \".am\", \".map\", \".npy\"]\n",
    "    patch_size=128,  # Size of a patch ML model predict at a time\n",
    "    convolution_nn=\"fnet_attn\",  # Name of CNN model. Must be one of [unet, fnet_attn]\n",
    "    cnn_threshold=0.25,  # Threshold for CNN model\n",
    "    dist_threshold=0.5,  # Threshold for DIST instance model\n",
    "    points_in_patch=1000,  # Number of points DIST model predict at a time [GPU constrain 1000 points needs 12 Gb GPU memory]\n",
    "    predict_with_rotation=False,  # Optional rotation of image patch during CNN prediction to increase accuracy\n",
    "    instances=True,  # If True, Tardis will predict both semantic and instance predictions\n",
    "    device_s=\"cpu\",  # 0-9 indicate GPU id, but also \"cpu\" or \"mps\" can be used\n",
    "    debug=False,  # If True, enable debuting mode which save all intermediate files\n",
    "    checkpoint=[cnn_weights, dist_weights],  # Indicate pre-trained weights\n",
    "    correct_px=25,  # For numpy correct pixel size must be indicated\n",
    "    amira_prefix=None,  # For microtubules prediction, Tardis can read Amira Spatial Graph to compare both predictions and select overlaying microtubules to increase precision\n",
    "    filter_by_length=None,  # Optional length filter for the predicted filaments\n",
    "    connect_splines=None,  # Optional filter for connecting filaments which are facing the same direction and are in the distance equal or smaller than [A]\n",
    "    connect_cylinder=None,  # Optional filter for connecting filaments which are facing the same direction based on cylinder radius equal or smaller than [A]\n",
    "    amira_compare_distance=None,  # Optional length filter for comparing Amira prediction with TARDIS\n",
    "    amira_inter_probability=None,  # Optional filter for comparing Amira prediction with TARDIS. Defining likelihood of two microtubules being the same one [0-1]\n",
    "    tardis_logo=False,  # If True, enable console display of prediction progress. If True, Tardis will run silently\n",
    ")"
   ],
   "id": "82081dec37d9c0d4",
   "execution_count": 7,
   "outputs": []
  },
  {
   "metadata": {},
   "cell_type": "markdown",
   "source": "# Run Prediction",
   "id": "f6b53612329c3d72"
  },
  {
   "metadata": {},
   "cell_type": "code",
   "source": "semantic, instance, instance_filter = tardis()",
   "id": "bcca3ace807e44e7",
   "execution_count": 8,
   "outputs": []
  },
  {
   "metadata": {
    "ExecuteTime": {
     "end_time": "2024-05-08T09:58:08.758639Z",
     "start_time": "2024-05-08T09:58:08.666521Z"
    }
   },
   "cell_type": "code",
   "source": [
    "import matplotlib.pyplot as plt\n",
    "\n",
    "plt.imshow(semantic[0].sum(0))"
   ],
   "id": "a0fb03947d5dfc6b",
   "execution_count": 9,
   "outputs": []
  },
  {
   "metadata": {},
   "cell_type": "markdown",
   "source": "# Run TARDIS on file in directory and save file as .mrc and .csv",
   "id": "cb1e4efd721bb477"
  },
  {
   "metadata": {
    "ExecuteTime": {
     "end_time": "2024-05-08T10:00:24.237716Z",
     "start_time": "2024-05-08T09:58:08.759781Z"
    }
   },
   "cell_type": "code",
   "source": [
    "from tardis_em.utils.predictor import GeneralPredictor\n",
    "import numpy as np\n",
    "\n",
    "x = np.random.rand(128, 128, 128)\n",
    "\n",
    "tardis = GeneralPredictor(\n",
    "    predict=\"Microtubule\",  # Must be one of [\"Filament\", \"Membrane2D\", \"Membrane\", \"Microtubule\"]\n",
    "    dir_s=\".\",  # Must be one of [str to directory, np.ndarray]\n",
    "    binary_mask=False,  # If True, GeneralPredictor will assume that input image is Semantic Mask and will run only instance segmentation\n",
    "    output_format=\"mrc_csv\",  # Must be \"formatS_formatI\" where formatS is semantic output format file and formatI is instance output format one of [\".tif\", \".tiff\", \".mrc\", \".rec\", \".am\", \".map\", \".npy\"]\n",
    "    patch_size=128,  # Size of a patch ML model predict at a time\n",
    "    convolution_nn=\"fnet_attn\",  # Name of CNN model. Must be one of [unet, fnet_attn]\n",
    "    cnn_threshold=0.25,  # Threshold for CNN model\n",
    "    dist_threshold=0.5,  # Threshold for DIST instance model\n",
    "    points_in_patch=1000,  # Number of points DIST model predict at a time [GPU constrain 1000 points needs 12 Gb GPU memory]\n",
    "    predict_with_rotation=False,  # Optional rotation of image patch during CNN prediction to increase accuracy\n",
    "    instances=True,  # If True, Tardis will predict both semantic and instance predictions\n",
    "    device_s=\"cpu\",  # 0-9 indicate GPU id, but also \"cpu\" or \"mps\" can be used\n",
    "    debug=False,  # If True, enable debuting mode which save all intermediate files\n",
    "    checkpoint=[cnn_weights, dist_weights],  # Indicate pre-trained weights\n",
    "    correct_px=25,  # For numpy correct pixel size must be indicated\n",
    "    amira_prefix=None,  # For microtubules prediction, Tardis can read Amira Spatial Graph to compare both predictions and select overlaying microtubules to increase precision\n",
    "    filter_by_length=None,  # Optional length filter for the predicted filaments\n",
    "    connect_splines=None,  # Optional filter for connecting filaments which are facing the same direction and are in the distance equal or smaller than [A]\n",
    "    connect_cylinder=None,  # Optional filter for connecting filaments which are facing the same direction based on cylinder radius equal or smaller than [A]\n",
    "    amira_compare_distance=None,  # Optional length filter for comparing Amira prediction with TARDIS\n",
    "    amira_inter_probability=None,  # Optional filter for comparing Amira prediction with TARDIS. Defining likelihood of two microtubules being the same one [0-1]\n",
    "    tardis_logo=False,  # If True, enable console display of prediction progress. If True, Tardis will run silently\n",
    ")\n",
    "tardis()  # This will save output in './Prediction/' folder only if prediction was successful"
   ],
   "id": "fb52c0a8bfb88487",
   "execution_count": 10,
   "outputs": []
  }
 ],
 "metadata": {
  "kernelspec": {
   "display_name": "Python 3",
   "language": "python",
   "name": "python3"
  },
  "language_info": {
   "codemirror_mode": {
    "name": "ipython",
    "version": 2
   },
   "file_extension": ".py",
   "mimetype": "text/x-python",
   "name": "python",
   "nbconvert_exporter": "python",
   "pygments_lexer": "ipython2",
   "version": "2.7.6"
  }
 },
 "nbformat": 4,
 "nbformat_minor": 5
}
